{
 "cells": [
  {
   "cell_type": "code",
   "execution_count": 16,
   "metadata": {
    "collapsed": false
   },
   "outputs": [
    {
     "data": {
      "text/html": [
       "<table>\n",
       "<tbody>\n",
       "\t<tr><td>1 </td><td>5 </td><td> 9</td><td>13</td></tr>\n",
       "\t<tr><td>2 </td><td>6 </td><td>10</td><td>14</td></tr>\n",
       "\t<tr><td>3 </td><td>7 </td><td>11</td><td>15</td></tr>\n",
       "\t<tr><td>4 </td><td>8 </td><td>12</td><td>16</td></tr>\n",
       "</tbody>\n",
       "</table>\n"
      ],
      "text/latex": [
       "\\begin{tabular}{llll}\n",
       "\t 1  & 5  &  9 & 13\\\\\n",
       "\t 2  & 6  & 10 & 14\\\\\n",
       "\t 3  & 7  & 11 & 15\\\\\n",
       "\t 4  & 8  & 12 & 16\\\\\n",
       "\\end{tabular}\n"
      ],
      "text/markdown": [
       "1. 1\n",
       "2. 2\n",
       "3. 3\n",
       "4. 4\n",
       "5. 5\n",
       "6. 6\n",
       "7. 7\n",
       "8. 8\n",
       "9. 9\n",
       "10. 10\n",
       "11. 11\n",
       "12. 12\n",
       "13. 13\n",
       "14. 14\n",
       "15. 15\n",
       "16. 16\n",
       "\n",
       "\n"
      ],
      "text/plain": [
       "     [,1] [,2] [,3] [,4]\n",
       "[1,] 1    5     9   13  \n",
       "[2,] 2    6    10   14  \n",
       "[3,] 3    7    11   15  \n",
       "[4,] 4    8    12   16  "
      ]
     },
     "metadata": {},
     "output_type": "display_data"
    }
   ],
   "source": [
    "M <- matrix(1:16, 4,4)\n",
    "M"
   ]
  },
  {
   "cell_type": "code",
   "execution_count": 17,
   "metadata": {
    "collapsed": false
   },
   "outputs": [
    {
     "data": {
      "text/html": [
       "<ol class=list-inline>\n",
       "\t<li>1</li>\n",
       "\t<li>2</li>\n",
       "\t<li>3</li>\n",
       "\t<li>4</li>\n",
       "</ol>\n"
      ],
      "text/latex": [
       "\\begin{enumerate*}\n",
       "\\item 1\n",
       "\\item 2\n",
       "\\item 3\n",
       "\\item 4\n",
       "\\end{enumerate*}\n"
      ],
      "text/markdown": [
       "1. 1\n",
       "2. 2\n",
       "3. 3\n",
       "4. 4\n",
       "\n",
       "\n"
      ],
      "text/plain": [
       "[1] 1 2 3 4"
      ]
     },
     "metadata": {},
     "output_type": "display_data"
    },
    {
     "data": {
      "text/html": [
       "<ol class=list-inline>\n",
       "\t<li>4</li>\n",
       "\t<li>8</li>\n",
       "\t<li>12</li>\n",
       "\t<li>16</li>\n",
       "</ol>\n"
      ],
      "text/latex": [
       "\\begin{enumerate*}\n",
       "\\item 4\n",
       "\\item 8\n",
       "\\item 12\n",
       "\\item 16\n",
       "\\end{enumerate*}\n"
      ],
      "text/markdown": [
       "1. 4\n",
       "2. 8\n",
       "3. 12\n",
       "4. 16\n",
       "\n",
       "\n"
      ],
      "text/plain": [
       "[1]  4  8 12 16"
      ]
     },
     "metadata": {},
     "output_type": "display_data"
    }
   ],
   "source": [
    "apply(M, 1, min) # apply function 'min' to rows\n",
    "apply(M, 2, max) # apply function 'max' to columns"
   ]
  },
  {
   "cell_type": "code",
   "execution_count": 22,
   "metadata": {
    "collapsed": false
   },
   "outputs": [],
   "source": [
    "# lapply and sapply example\n",
    "x <- list(a=1, b=1:3, c=10:100) # x is a jagged array with three variables of unequal length"
   ]
  },
  {
   "cell_type": "code",
   "execution_count": 23,
   "metadata": {
    "collapsed": false
   },
   "outputs": [
    {
     "data": {
      "text/html": [
       "<dl>\n",
       "\t<dt>$a</dt>\n",
       "\t\t<dd>1</dd>\n",
       "\t<dt>$b</dt>\n",
       "\t\t<dd>3</dd>\n",
       "\t<dt>$c</dt>\n",
       "\t\t<dd>91</dd>\n",
       "</dl>\n"
      ],
      "text/latex": [
       "\\begin{description}\n",
       "\\item[\\$a] 1\n",
       "\\item[\\$b] 3\n",
       "\\item[\\$c] 91\n",
       "\\end{description}\n"
      ],
      "text/markdown": [
       "$a\n",
       ":   1\n",
       "$b\n",
       ":   3\n",
       "$c\n",
       ":   91\n",
       "\n",
       "\n"
      ],
      "text/plain": [
       "$a\n",
       "[1] 1\n",
       "\n",
       "$b\n",
       "[1] 3\n",
       "\n",
       "$c\n",
       "[1] 91\n"
      ]
     },
     "metadata": {},
     "output_type": "display_data"
    }
   ],
   "source": [
    "lapply(x, length) # apply the function to length for each column of x"
   ]
  },
  {
   "cell_type": "code",
   "execution_count": 30,
   "metadata": {
    "collapsed": false
   },
   "outputs": [
    {
     "data": {
      "text/html": [
       "<dl class=dl-horizontal>\n",
       "\t<dt>a</dt>\n",
       "\t\t<dd>1</dd>\n",
       "\t<dt>b</dt>\n",
       "\t\t<dd>3</dd>\n",
       "\t<dt>c</dt>\n",
       "\t\t<dd>91</dd>\n",
       "</dl>\n"
      ],
      "text/latex": [
       "\\begin{description*}\n",
       "\\item[a] 1\n",
       "\\item[b] 3\n",
       "\\item[c] 91\n",
       "\\end{description*}\n"
      ],
      "text/markdown": [
       "a\n",
       ":   1b\n",
       ":   3c\n",
       ":   91\n",
       "\n"
      ],
      "text/plain": [
       " a  b  c \n",
       " 1  3 91 "
      ]
     },
     "metadata": {},
     "output_type": "display_data"
    }
   ],
   "source": [
    "sapply(x, length) # sapply is a wrapper to lapply. they are compliments"
   ]
  },
  {
   "cell_type": "code",
   "execution_count": 31,
   "metadata": {
    "collapsed": false
   },
   "outputs": [
    {
     "data": {
      "text/html": [
       "<dl>\n",
       "\t<dt>$a</dt>\n",
       "\t\t<dd>1</dd>\n",
       "\t<dt>$b</dt>\n",
       "\t\t<dd>6</dd>\n",
       "\t<dt>$c</dt>\n",
       "\t\t<dd>5005</dd>\n",
       "</dl>\n"
      ],
      "text/latex": [
       "\\begin{description}\n",
       "\\item[\\$a] 1\n",
       "\\item[\\$b] 6\n",
       "\\item[\\$c] 5005\n",
       "\\end{description}\n"
      ],
      "text/markdown": [
       "$a\n",
       ":   1\n",
       "$b\n",
       ":   6\n",
       "$c\n",
       ":   5005\n",
       "\n",
       "\n"
      ],
      "text/plain": [
       "$a\n",
       "[1] 1\n",
       "\n",
       "$b\n",
       "[1] 6\n",
       "\n",
       "$c\n",
       "[1] 5005\n"
      ]
     },
     "metadata": {},
     "output_type": "display_data"
    }
   ],
   "source": [
    "lapply(x, sum)"
   ]
  },
  {
   "cell_type": "code",
   "execution_count": 32,
   "metadata": {
    "collapsed": false
   },
   "outputs": [
    {
     "data": {
      "text/html": [
       "<dl class=dl-horizontal>\n",
       "\t<dt>a</dt>\n",
       "\t\t<dd>1</dd>\n",
       "\t<dt>b</dt>\n",
       "\t\t<dd>6</dd>\n",
       "\t<dt>c</dt>\n",
       "\t\t<dd>5005</dd>\n",
       "</dl>\n"
      ],
      "text/latex": [
       "\\begin{description*}\n",
       "\\item[a] 1\n",
       "\\item[b] 6\n",
       "\\item[c] 5005\n",
       "\\end{description*}\n"
      ],
      "text/markdown": [
       "a\n",
       ":   1b\n",
       ":   6c\n",
       ":   5005\n",
       "\n"
      ],
      "text/plain": [
       "   a    b    c \n",
       "   1    6 5005 "
      ]
     },
     "metadata": {},
     "output_type": "display_data"
    }
   ],
   "source": [
    "sapply(x, sum)"
   ]
  },
  {
   "cell_type": "code",
   "execution_count": 34,
   "metadata": {
    "collapsed": false
   },
   "outputs": [
    {
     "data": {
      "text/html": [
       "<table>\n",
       "<tbody>\n",
       "\t<tr><td> 0.12932716</td><td>1.9098461  </td><td>2.275665   </td><td>1.991587   </td><td>4.907395   </td></tr>\n",
       "\t<tr><td>-0.01376633</td><td>1.9289239  </td><td>2.630521   </td><td>2.762248   </td><td>4.364936   </td></tr>\n",
       "\t<tr><td> 2.52966648</td><td>0.6410701  </td><td>2.093958   </td><td>4.553058   </td><td>6.370079   </td></tr>\n",
       "</tbody>\n",
       "</table>\n"
      ],
      "text/latex": [
       "\\begin{tabular}{lllll}\n",
       "\t  0.12932716 & 1.9098461   & 2.275665    & 1.991587    & 4.907395   \\\\\n",
       "\t -0.01376633 & 1.9289239   & 2.630521    & 2.762248    & 4.364936   \\\\\n",
       "\t  2.52966648 & 0.6410701   & 2.093958    & 4.553058    & 6.370079   \\\\\n",
       "\\end{tabular}\n"
      ],
      "text/markdown": [
       "1. 0.129327158644845\n",
       "2. -0.0137663303940609\n",
       "3. 2.52966647871031\n",
       "4. 1.90984607365492\n",
       "5. 1.92892393962122\n",
       "6. 0.641070051049297\n",
       "7. 2.27566482083949\n",
       "8. 2.63052093908537\n",
       "9. 2.09395785795325\n",
       "10. 1.99158703228085\n",
       "11. 2.76224839648261\n",
       "12. 4.55305842762263\n",
       "13. 4.90739467928977\n",
       "14. 4.36493558041509\n",
       "15. 6.37007935526677\n",
       "\n",
       "\n"
      ],
      "text/plain": [
       "     [,1]        [,2]      [,3]     [,4]     [,5]    \n",
       "[1,]  0.12932716 1.9098461 2.275665 1.991587 4.907395\n",
       "[2,] -0.01376633 1.9289239 2.630521 2.762248 4.364936\n",
       "[3,]  2.52966648 0.6410701 2.093958 4.553058 6.370079"
      ]
     },
     "metadata": {},
     "output_type": "display_data"
    }
   ],
   "source": [
    "sapply(1:5, function(x)rnorm(3, mean=x)) # each column has a mean of 1:5"
   ]
  },
  {
   "cell_type": "code",
   "execution_count": 37,
   "metadata": {
    "collapsed": false
   },
   "outputs": [],
   "source": [
    "# read data from online source\n",
    "forbes <- read.csv(\"http://statweb.lsu.edu/faculty/li/data/Forbes2000.csv\", header=T)"
   ]
  },
  {
   "cell_type": "code",
   "execution_count": 38,
   "metadata": {
    "collapsed": false
   },
   "outputs": [
    {
     "data": {
      "text/html": [
       "<table>\n",
       "<thead><tr><th scope=col>rank</th><th scope=col>name</th><th scope=col>country</th><th scope=col>category</th><th scope=col>sales</th><th scope=col>profits</th><th scope=col>assets</th><th scope=col>marketvalue</th></tr></thead>\n",
       "<tbody>\n",
       "\t<tr><td>1                   </td><td>Citigroup           </td><td>United States       </td><td>Banking             </td><td> 94.71              </td><td>17.85               </td><td>1264.03             </td><td>255.30              </td></tr>\n",
       "\t<tr><td>2                   </td><td>General Electric    </td><td>United States       </td><td>Conglomerates       </td><td>134.19              </td><td>15.59               </td><td> 626.93             </td><td>328.54              </td></tr>\n",
       "\t<tr><td>3                   </td><td>American Intl Group </td><td>United States       </td><td>Insurance           </td><td> 76.66              </td><td> 6.46               </td><td> 647.66             </td><td>194.87              </td></tr>\n",
       "\t<tr><td>4                                                          </td><td><span style=white-space:pre-wrap>ExxonMobil         </span></td><td>United States                                              </td><td>Oil &amp; gas operations                                   </td><td>222.88                                                     </td><td>20.96                                                      </td><td> 166.99                                                    </td><td>277.02                                                     </td></tr>\n",
       "\t<tr><td>5                                                          </td><td><span style=white-space:pre-wrap>BP                 </span></td><td>United Kingdom                                             </td><td>Oil &amp; gas operations                                   </td><td>232.57                                                     </td><td>10.27                                                      </td><td> 177.57                                                    </td><td>173.54                                                     </td></tr>\n",
       "\t<tr><td>6                   </td><td>Bank of America     </td><td>United States       </td><td>Banking             </td><td> 49.01              </td><td>10.81               </td><td> 736.45             </td><td>117.55              </td></tr>\n",
       "</tbody>\n",
       "</table>\n"
      ],
      "text/latex": [
       "\\begin{tabular}{r|llllllll}\n",
       " rank & name & country & category & sales & profits & assets & marketvalue\\\\\n",
       "\\hline\n",
       "\t 1                    & Citigroup            & United States        & Banking              &  94.71               & 17.85                & 1264.03              & 255.30              \\\\\n",
       "\t 2                    & General Electric     & United States        & Conglomerates        & 134.19               & 15.59                &  626.93              & 328.54              \\\\\n",
       "\t 3                    & American Intl Group  & United States        & Insurance            &  76.66               &  6.46                &  647.66              & 194.87              \\\\\n",
       "\t 4                      & ExxonMobil             & United States          & Oil \\& gas operations & 222.88                 & 20.96                  &  166.99                & 277.02                \\\\\n",
       "\t 5                      & BP                     & United Kingdom         & Oil \\& gas operations & 232.57                 & 10.27                  &  177.57                & 173.54                \\\\\n",
       "\t 6                    & Bank of America      & United States        & Banking              &  49.01               & 10.81                &  736.45              & 117.55              \\\\\n",
       "\\end{tabular}\n"
      ],
      "text/plain": [
       "  rank name                country        category             sales  profits\n",
       "1 1    Citigroup           United States  Banking               94.71 17.85  \n",
       "2 2    General Electric    United States  Conglomerates        134.19 15.59  \n",
       "3 3    American Intl Group United States  Insurance             76.66  6.46  \n",
       "4 4    ExxonMobil          United States  Oil & gas operations 222.88 20.96  \n",
       "5 5    BP                  United Kingdom Oil & gas operations 232.57 10.27  \n",
       "6 6    Bank of America     United States  Banking               49.01 10.81  \n",
       "  assets  marketvalue\n",
       "1 1264.03 255.30     \n",
       "2  626.93 328.54     \n",
       "3  647.66 194.87     \n",
       "4  166.99 277.02     \n",
       "5  177.57 173.54     \n",
       "6  736.45 117.55     "
      ]
     },
     "metadata": {},
     "output_type": "display_data"
    }
   ],
   "source": [
    "head(forbes)  #display the first few rows of data with. \n",
    "              # end of the data can be displayed with tail function"
   ]
  },
  {
   "cell_type": "code",
   "execution_count": 39,
   "metadata": {
    "collapsed": false
   },
   "outputs": [
    {
     "data": {
      "text/html": [
       "'data.frame'"
      ],
      "text/latex": [
       "'data.frame'"
      ],
      "text/markdown": [
       "'data.frame'"
      ],
      "text/plain": [
       "[1] \"data.frame\""
      ]
     },
     "metadata": {},
     "output_type": "display_data"
    }
   ],
   "source": [
    "class(forbes)  # check if the data read is in a data frame"
   ]
  },
  {
   "cell_type": "code",
   "execution_count": 40,
   "metadata": {
    "collapsed": false
   },
   "outputs": [
    {
     "name": "stdout",
     "output_type": "stream",
     "text": [
      "'data.frame':\t2000 obs. of  8 variables:\n",
      " $ rank       : int  1 2 3 4 5 6 7 8 9 10 ...\n",
      " $ name       : Factor w/ 2000 levels \"Aareal Bank\",..: 438 747 100 659 311 219 870 1827 663 1921 ...\n",
      " $ country    : Factor w/ 61 levels \"Africa\",\"Australia\",..: 60 60 60 60 56 60 56 28 60 60 ...\n",
      " $ category   : Factor w/ 27 levels \"Aerospace & defense\",..: 2 6 16 19 19 2 2 8 9 20 ...\n",
      " $ sales      : num  94.7 134.2 76.7 222.9 232.6 ...\n",
      " $ profits    : num  17.85 15.59 6.46 20.96 10.27 ...\n",
      " $ assets     : num  1264 627 648 167 178 ...\n",
      " $ marketvalue: num  255 329 195 277 174 ...\n"
     ]
    }
   ],
   "source": [
    "str(forbes)  # str displays structure of the R object"
   ]
  },
  {
   "cell_type": "code",
   "execution_count": 81,
   "metadata": {
    "collapsed": false
   },
   "outputs": [
    {
     "name": "stdout",
     "output_type": "stream",
     "text": [
      "[1] \"Dimensions of Forbes data\"\n",
      "[1] 2000    8\n",
      "[1] \"Number of Rows\"\n",
      "[1] 2000\n",
      "[1] \"Number of Columns\"\n",
      "[1] 8\n",
      "[1] \"Variable Names\"\n",
      "[1] \"rank\"        \"name\"        \"country\"     \"category\"    \"sales\"      \n",
      "[6] \"profits\"     \"assets\"      \"marketvalue\"\n"
     ]
    }
   ],
   "source": [
    "print(\"Dimensions of Forbes data\")\n",
    "print(dim(forbes))  # what are dimensions of the object\n",
    "print(\"Number of Rows\")\n",
    "print(nrow(forbes)) # print number of rows/observations\n",
    "print(\"Number of Columns\")\n",
    "print(ncol(forbes)) # print number of columns (variables) of data\n",
    "print(\"Variable Names\")\n",
    "print(names(forbes)) # print out names of the columns"
   ]
  },
  {
   "cell_type": "code",
   "execution_count": 52,
   "metadata": {
    "collapsed": false
   },
   "outputs": [
    {
     "data": {
      "text/html": [
       "'factor'"
      ],
      "text/latex": [
       "'factor'"
      ],
      "text/markdown": [
       "'factor'"
      ],
      "text/plain": [
       "[1] \"factor\""
      ]
     },
     "metadata": {},
     "output_type": "display_data"
    },
    {
     "data": {
      "text/html": [
       "27"
      ],
      "text/latex": [
       "27"
      ],
      "text/markdown": [
       "27"
      ],
      "text/plain": [
       "[1] 27"
      ]
     },
     "metadata": {},
     "output_type": "display_data"
    },
    {
     "data": {
      "text/html": [
       "<ol class=list-inline>\n",
       "\t<li>'Aerospace &amp; defense'</li>\n",
       "\t<li>'Banking'</li>\n",
       "\t<li>'Business services &amp; supplies'</li>\n",
       "\t<li>'Capital goods'</li>\n",
       "\t<li>'Chemicals'</li>\n",
       "\t<li>'Conglomerates'</li>\n",
       "\t<li>'Construction'</li>\n",
       "\t<li>'Consumer durables'</li>\n",
       "\t<li>'Diversified financials'</li>\n",
       "\t<li>'Drugs &amp; biotechnology'</li>\n",
       "\t<li>'Food drink &amp; tobacco'</li>\n",
       "\t<li>'Food markets'</li>\n",
       "\t<li>'Health care equipment &amp; services'</li>\n",
       "\t<li>'Hotels restaurants &amp; leisure'</li>\n",
       "\t<li>'Household &amp; personal products'</li>\n",
       "\t<li>'Insurance'</li>\n",
       "\t<li>'Materials'</li>\n",
       "\t<li>'Media'</li>\n",
       "\t<li>'Oil &amp; gas operations'</li>\n",
       "\t<li>'Retailing'</li>\n",
       "\t<li>'Semiconductors'</li>\n",
       "\t<li>'Software &amp; services'</li>\n",
       "\t<li>'Technology hardware &amp; equipment'</li>\n",
       "\t<li>'Telecommunications services'</li>\n",
       "\t<li>'Trading companies'</li>\n",
       "\t<li>'Transportation'</li>\n",
       "\t<li>'Utilities'</li>\n",
       "</ol>\n"
      ],
      "text/latex": [
       "\\begin{enumerate*}\n",
       "\\item 'Aerospace \\& defense'\n",
       "\\item 'Banking'\n",
       "\\item 'Business services \\& supplies'\n",
       "\\item 'Capital goods'\n",
       "\\item 'Chemicals'\n",
       "\\item 'Conglomerates'\n",
       "\\item 'Construction'\n",
       "\\item 'Consumer durables'\n",
       "\\item 'Diversified financials'\n",
       "\\item 'Drugs \\& biotechnology'\n",
       "\\item 'Food drink \\& tobacco'\n",
       "\\item 'Food markets'\n",
       "\\item 'Health care equipment \\& services'\n",
       "\\item 'Hotels restaurants \\& leisure'\n",
       "\\item 'Household \\& personal products'\n",
       "\\item 'Insurance'\n",
       "\\item 'Materials'\n",
       "\\item 'Media'\n",
       "\\item 'Oil \\& gas operations'\n",
       "\\item 'Retailing'\n",
       "\\item 'Semiconductors'\n",
       "\\item 'Software \\& services'\n",
       "\\item 'Technology hardware \\& equipment'\n",
       "\\item 'Telecommunications services'\n",
       "\\item 'Trading companies'\n",
       "\\item 'Transportation'\n",
       "\\item 'Utilities'\n",
       "\\end{enumerate*}\n"
      ],
      "text/markdown": [
       "1. 'Aerospace &amp; defense'\n",
       "2. 'Banking'\n",
       "3. 'Business services &amp; supplies'\n",
       "4. 'Capital goods'\n",
       "5. 'Chemicals'\n",
       "6. 'Conglomerates'\n",
       "7. 'Construction'\n",
       "8. 'Consumer durables'\n",
       "9. 'Diversified financials'\n",
       "10. 'Drugs &amp; biotechnology'\n",
       "11. 'Food drink &amp; tobacco'\n",
       "12. 'Food markets'\n",
       "13. 'Health care equipment &amp; services'\n",
       "14. 'Hotels restaurants &amp; leisure'\n",
       "15. 'Household &amp; personal products'\n",
       "16. 'Insurance'\n",
       "17. 'Materials'\n",
       "18. 'Media'\n",
       "19. 'Oil &amp; gas operations'\n",
       "20. 'Retailing'\n",
       "21. 'Semiconductors'\n",
       "22. 'Software &amp; services'\n",
       "23. 'Technology hardware &amp; equipment'\n",
       "24. 'Telecommunications services'\n",
       "25. 'Trading companies'\n",
       "26. 'Transportation'\n",
       "27. 'Utilities'\n",
       "\n",
       "\n"
      ],
      "text/plain": [
       " [1] \"Aerospace & defense\"              \"Banking\"                         \n",
       " [3] \"Business services & supplies\"     \"Capital goods\"                   \n",
       " [5] \"Chemicals\"                        \"Conglomerates\"                   \n",
       " [7] \"Construction\"                     \"Consumer durables\"               \n",
       " [9] \"Diversified financials\"           \"Drugs & biotechnology\"           \n",
       "[11] \"Food drink & tobacco\"             \"Food markets\"                    \n",
       "[13] \"Health care equipment & services\" \"Hotels restaurants & leisure\"    \n",
       "[15] \"Household & personal products\"    \"Insurance\"                       \n",
       "[17] \"Materials\"                        \"Media\"                           \n",
       "[19] \"Oil & gas operations\"             \"Retailing\"                       \n",
       "[21] \"Semiconductors\"                   \"Software & services\"             \n",
       "[23] \"Technology hardware & equipment\"  \"Telecommunications services\"     \n",
       "[25] \"Trading companies\"                \"Transportation\"                  \n",
       "[27] \"Utilities\"                       "
      ]
     },
     "metadata": {},
     "output_type": "display_data"
    }
   ],
   "source": [
    "class(forbes[,\"category\"])  # what is the datatype of 'category'\n",
    "nlevels(forbes[,\"category\"]) # how many levels does category have\n",
    "levels(forbes[,'category']) # list names of categories"
   ]
  },
  {
   "cell_type": "code",
   "execution_count": 53,
   "metadata": {
    "collapsed": false
   },
   "outputs": [
    {
     "data": {
      "text/plain": [
       "\n",
       "             Aerospace & defense                          Banking \n",
       "                              19                              313 \n",
       "    Business services & supplies                    Capital goods \n",
       "                              70                               53 \n",
       "                       Chemicals                    Conglomerates \n",
       "                              50                               31 \n",
       "                    Construction                Consumer durables \n",
       "                              79                               74 \n",
       "          Diversified financials            Drugs & biotechnology \n",
       "                             158                               45 \n",
       "            Food drink & tobacco                     Food markets \n",
       "                              83                               33 \n",
       "Health care equipment & services     Hotels restaurants & leisure \n",
       "                              65                               37 \n",
       "   Household & personal products                        Insurance \n",
       "                              44                              112 \n",
       "                       Materials                            Media \n",
       "                              97                               61 \n",
       "            Oil & gas operations                        Retailing \n",
       "                              90                               88 \n",
       "                  Semiconductors              Software & services \n",
       "                              26                               31 \n",
       " Technology hardware & equipment      Telecommunications services \n",
       "                              59                               67 \n",
       "               Trading companies                   Transportation \n",
       "                              25                               80 \n",
       "                       Utilities \n",
       "                             110 "
      ]
     },
     "metadata": {},
     "output_type": "display_data"
    }
   ],
   "source": [
    "table(forbes[,'category']) # frequency table for categories"
   ]
  },
  {
   "cell_type": "code",
   "execution_count": 82,
   "metadata": {
    "collapsed": false
   },
   "outputs": [
    {
     "name": "stdout",
     "output_type": "stream",
     "text": [
      "[1] \"Data type of variable Sales\"\n"
     ]
    },
    {
     "data": {
      "text/html": [
       "'numeric'"
      ],
      "text/latex": [
       "'numeric'"
      ],
      "text/markdown": [
       "'numeric'"
      ],
      "text/plain": [
       "[1] \"numeric\""
      ]
     },
     "metadata": {},
     "output_type": "display_data"
    },
    {
     "name": "stdout",
     "output_type": "stream",
     "text": [
      "[1] \"Standard statistics and summary for Sales\"\n"
     ]
    },
    {
     "data": {
      "text/html": [
       "4.365"
      ],
      "text/latex": [
       "4.365"
      ],
      "text/markdown": [
       "4.365"
      ],
      "text/plain": [
       "[1] 4.365"
      ]
     },
     "metadata": {},
     "output_type": "display_data"
    },
    {
     "data": {
      "text/html": [
       "9.69701"
      ],
      "text/latex": [
       "9.69701"
      ],
      "text/markdown": [
       "9.69701"
      ],
      "text/plain": [
       "[1] 9.69701"
      ]
     },
     "metadata": {},
     "output_type": "display_data"
    },
    {
     "data": {
      "text/html": [
       "18.0025923529255"
      ],
      "text/latex": [
       "18.0025923529255"
      ],
      "text/markdown": [
       "18.0025923529255"
      ],
      "text/plain": [
       "[1] 18.00259"
      ]
     },
     "metadata": {},
     "output_type": "display_data"
    },
    {
     "data": {
      "text/html": [
       "<ol class=list-inline>\n",
       "\t<li>0.01</li>\n",
       "\t<li>256.33</li>\n",
       "</ol>\n"
      ],
      "text/latex": [
       "\\begin{enumerate*}\n",
       "\\item 0.01\n",
       "\\item 256.33\n",
       "\\end{enumerate*}\n"
      ],
      "text/markdown": [
       "1. 0.01\n",
       "2. 256.33\n",
       "\n",
       "\n"
      ],
      "text/plain": [
       "[1]   0.01 256.33"
      ]
     },
     "metadata": {},
     "output_type": "display_data"
    },
    {
     "data": {
      "text/plain": [
       "   Min. 1st Qu.  Median    Mean 3rd Qu.    Max. \n",
       "  0.010   2.018   4.365   9.697   9.548 256.300 "
      ]
     },
     "metadata": {},
     "output_type": "display_data"
    }
   ],
   "source": [
    "print('Data type of variable Sales')\n",
    "class(forbes[,5]) # data type of varible sales\n",
    "print('Standard statistics and summary for Sales')\n",
    "median(forbes[,5]) # calculate median for sales\n",
    "mean(forbes[,5]) # calculate mean for sales\n",
    "sd(forbes[,5]) # calculate sd for sales\n",
    "range(forbes[,5]) # calculate range for sales\n",
    "summary(forbes[,5]) # summarize data for sales"
   ]
  },
  {
   "cell_type": "code",
   "execution_count": 57,
   "metadata": {
    "collapsed": true
   },
   "outputs": [],
   "source": [
    "# all these statements do the same thing\n",
    "companies <- forbes$name\n",
    "companies <- forbes[,\"name\"]\n",
    "companies <- forbes[,2] "
   ]
  },
  {
   "cell_type": "code",
   "execution_count": 59,
   "metadata": {
    "collapsed": false
   },
   "outputs": [
    {
     "data": {
      "text/html": [
       "<ol class=list-inline>\n",
       "\t<li>Custodia Holding</li>\n",
       "\t<li>Central European Media</li>\n",
       "\t<li>Minara Resources</li>\n",
       "</ol>\n"
      ],
      "text/latex": [
       "\\begin{enumerate*}\n",
       "\\item Custodia Holding\n",
       "\\item Central European Media\n",
       "\\item Minara Resources\n",
       "\\end{enumerate*}\n"
      ],
      "text/markdown": [
       "1. Custodia Holding\n",
       "2. Central European Media\n",
       "3. Minara Resources\n",
       "\n",
       "\n"
      ],
      "text/plain": [
       "[1] Custodia Holding       Central European Media Minara Resources      \n",
       "2000 Levels: Aareal Bank ABB Group Abbey National ... Zurich Financial Services"
      ]
     },
     "metadata": {},
     "output_type": "display_data"
    }
   ],
   "source": [
    "order_sales <- order(forbes$sales) # default ordering is ascending by sales\n",
    "companies[order_sales[1:3]] # print out the first three companies with least sales"
   ]
  },
  {
   "cell_type": "code",
   "execution_count": 62,
   "metadata": {
    "collapsed": false
   },
   "outputs": [
    {
     "data": {
      "text/html": [
       "<ol class=list-inline>\n",
       "\t<li>Wal-Mart Stores</li>\n",
       "\t<li>BP</li>\n",
       "\t<li>ExxonMobil</li>\n",
       "</ol>\n"
      ],
      "text/latex": [
       "\\begin{enumerate*}\n",
       "\\item Wal-Mart Stores\n",
       "\\item BP\n",
       "\\item ExxonMobil\n",
       "\\end{enumerate*}\n"
      ],
      "text/markdown": [
       "1. Wal-Mart Stores\n",
       "2. BP\n",
       "3. ExxonMobil\n",
       "\n",
       "\n"
      ],
      "text/plain": [
       "[1] Wal-Mart Stores BP              ExxonMobil     \n",
       "2000 Levels: Aareal Bank ABB Group Abbey National ... Zurich Financial Services"
      ]
     },
     "metadata": {},
     "output_type": "display_data"
    },
    {
     "data": {
      "text/html": [
       "<table>\n",
       "<thead><tr><th></th><th scope=col>rank</th><th scope=col>name</th><th scope=col>country</th><th scope=col>category</th><th scope=col>sales</th><th scope=col>profits</th><th scope=col>assets</th><th scope=col>marketvalue</th></tr></thead>\n",
       "<tbody>\n",
       "\t<tr><th scope=row>10</th><td>10                  </td><td>Wal-Mart Stores     </td><td>United States       </td><td>Retailing           </td><td>256.33              </td><td> 9.05               </td><td>104.91              </td><td>243.74              </td></tr>\n",
       "\t<tr><th scope=row>5</th><td> 5                                                     </td><td><span style=white-space:pre-wrap>BP             </span></td><td>United Kingdom                                         </td><td>Oil &amp; gas operations                               </td><td>232.57                                                 </td><td>10.27                                                  </td><td>177.57                                                 </td><td>173.54                                                 </td></tr>\n",
       "\t<tr><th scope=row>4</th><td> 4                                                     </td><td><span style=white-space:pre-wrap>ExxonMobil     </span></td><td>United States                                          </td><td>Oil &amp; gas operations                               </td><td>222.88                                                 </td><td>20.96                                                  </td><td>166.99                                                 </td><td>277.02                                                 </td></tr>\n",
       "</tbody>\n",
       "</table>\n"
      ],
      "text/latex": [
       "\\begin{tabular}{r|llllllll}\n",
       "  & rank & name & country & category & sales & profits & assets & marketvalue\\\\\n",
       "\\hline\n",
       "\t10 & 10                   & Wal-Mart Stores      & United States        & Retailing            & 256.33               &  9.05                & 104.91               & 243.74              \\\\\n",
       "\t5 &  5                     & BP                     & United Kingdom         & Oil \\& gas operations & 232.57                 & 10.27                  & 177.57                 & 173.54                \\\\\n",
       "\t4 &  4                     & ExxonMobil             & United States          & Oil \\& gas operations & 222.88                 & 20.96                  & 166.99                 & 277.02                \\\\\n",
       "\\end{tabular}\n"
      ],
      "text/plain": [
       "   rank name            country        category             sales  profits\n",
       "10 10   Wal-Mart Stores United States  Retailing            256.33  9.05  \n",
       "5   5   BP              United Kingdom Oil & gas operations 232.57 10.27  \n",
       "4   4   ExxonMobil      United States  Oil & gas operations 222.88 20.96  \n",
       "   assets marketvalue\n",
       "10 104.91 243.74     \n",
       "5  177.57 173.54     \n",
       "4  166.99 277.02     "
      ]
     },
     "metadata": {},
     "output_type": "display_data"
    }
   ],
   "source": [
    "orderSales2 <- order(forbes$sales, decreasing=T) # order in decreasingly by sales\n",
    "companies[orderSales2[1:3]]  # first three companies with highest sales\n",
    "forbes[orderSales2[1:3],] # get information about these three companies from orig. data"
   ]
  },
  {
   "cell_type": "code",
   "execution_count": 64,
   "metadata": {
    "collapsed": false
   },
   "outputs": [
    {
     "data": {
      "text/html": [
       "<table>\n",
       "<thead><tr><th></th><th scope=col>name</th><th scope=col>sales</th><th scope=col>profits</th><th scope=col>assets</th></tr></thead>\n",
       "<tbody>\n",
       "\t<tr><th scope=row>1</th><td>Citigroup       </td><td>94.71           </td><td> 17.85          </td><td>1264.03         </td></tr>\n",
       "\t<tr><th scope=row>9</th><td>Fannie Mae      </td><td>53.13           </td><td>  6.48          </td><td>1019.17         </td></tr>\n",
       "\t<tr><th scope=row>403</th><td>Mizuho Financial</td><td>24.40           </td><td>-20.11          </td><td>1115.90         </td></tr>\n",
       "</tbody>\n",
       "</table>\n"
      ],
      "text/latex": [
       "\\begin{tabular}{r|llll}\n",
       "  & name & sales & profits & assets\\\\\n",
       "\\hline\n",
       "\t1 & Citigroup        & 94.71            &  17.85           & 1264.03         \\\\\n",
       "\t9 & Fannie Mae       & 53.13            &   6.48           & 1019.17         \\\\\n",
       "\t403 & Mizuho Financial & 24.40            & -20.11           & 1115.90         \\\\\n",
       "\\end{tabular}\n"
      ],
      "text/plain": [
       "    name             sales profits assets \n",
       "1   Citigroup        94.71  17.85  1264.03\n",
       "9   Fannie Mae       53.13   6.48  1019.17\n",
       "403 Mizuho Financial 24.40 -20.11  1115.90"
      ]
     },
     "metadata": {},
     "output_type": "display_data"
    }
   ],
   "source": [
    "# list companies with assets of more than 100 billion, only selected variables\n",
    "forbes[forbes$assets>1000,c('name','sales','profits','assets')]"
   ]
  },
  {
   "cell_type": "code",
   "execution_count": 67,
   "metadata": {
    "collapsed": false
   },
   "outputs": [
    {
     "data": {
      "text/html": [
       "'logical'"
      ],
      "text/latex": [
       "'logical'"
      ],
      "text/markdown": [
       "'logical'"
      ],
      "text/plain": [
       "[1] \"logical\""
      ]
     },
     "metadata": {},
     "output_type": "display_data"
    }
   ],
   "source": [
    "# list companies with missing values of profits\n",
    "na_profits <- is.na(forbes$profits) # a logic vector of length = nrows(forbes$profits)\n",
    "class(na_profits)"
   ]
  },
  {
   "cell_type": "code",
   "execution_count": 68,
   "metadata": {
    "collapsed": false
   },
   "outputs": [
    {
     "data": {
      "text/plain": [
       "na_profits\n",
       "FALSE  TRUE \n",
       " 1995     5 "
      ]
     },
     "metadata": {},
     "output_type": "display_data"
    }
   ],
   "source": [
    "table(na_profits)"
   ]
  },
  {
   "cell_type": "code",
   "execution_count": 71,
   "metadata": {
    "collapsed": false
   },
   "outputs": [
    {
     "data": {
      "text/html": [
       "<table>\n",
       "<thead><tr><th></th><th scope=col>rank</th><th scope=col>name</th><th scope=col>sales</th><th scope=col>profits</th><th scope=col>assets</th></tr></thead>\n",
       "<tbody>\n",
       "\t<tr><th scope=row>772</th><td> 772                 </td><td>AMP                  </td><td>5.40                 </td><td>NA                   </td><td>42.94                </td></tr>\n",
       "\t<tr><th scope=row>1085</th><td>1085                 </td><td>HHG                  </td><td>5.68                 </td><td>NA                   </td><td>51.65                </td></tr>\n",
       "\t<tr><th scope=row>1091</th><td>1091                 </td><td>NTL                  </td><td>3.50                 </td><td>NA                   </td><td>10.59                </td></tr>\n",
       "\t<tr><th scope=row>1425</th><td>1425                 </td><td>US Airways Group     </td><td>5.50                 </td><td>NA                   </td><td> 8.58                </td></tr>\n",
       "\t<tr><th scope=row>1909</th><td>1909                 </td><td>Laidlaw International</td><td>4.48                 </td><td>NA                   </td><td> 3.98                </td></tr>\n",
       "</tbody>\n",
       "</table>\n"
      ],
      "text/latex": [
       "\\begin{tabular}{r|lllll}\n",
       "  & rank & name & sales & profits & assets\\\\\n",
       "\\hline\n",
       "\t772 &  772                  & AMP                   & 5.40                  & NA                    & 42.94                \\\\\n",
       "\t1085 & 1085                  & HHG                   & 5.68                  & NA                    & 51.65                \\\\\n",
       "\t1091 & 1091                  & NTL                   & 3.50                  & NA                    & 10.59                \\\\\n",
       "\t1425 & 1425                  & US Airways Group      & 5.50                  & NA                    &  8.58                \\\\\n",
       "\t1909 & 1909                  & Laidlaw International & 4.48                  & NA                    &  3.98                \\\\\n",
       "\\end{tabular}\n"
      ],
      "text/plain": [
       "     rank name                  sales profits assets\n",
       "772   772 AMP                   5.40  NA      42.94 \n",
       "1085 1085 HHG                   5.68  NA      51.65 \n",
       "1091 1091 NTL                   3.50  NA      10.59 \n",
       "1425 1425 US Airways Group      5.50  NA       8.58 \n",
       "1909 1909 Laidlaw International 4.48  NA       3.98 "
      ]
     },
     "metadata": {},
     "output_type": "display_data"
    }
   ],
   "source": [
    "#forbes[na_profits,c(1:2,5:7)]# == forbes[na_profits, c('rank','name','sales','profits','assets')]\n",
    "forbes[na_profits, c('rank','name','sales','profits','assets')]"
   ]
  },
  {
   "cell_type": "code",
   "execution_count": 78,
   "metadata": {
    "collapsed": false
   },
   "outputs": [
    {
     "data": {
      "text/html": [
       "137"
      ],
      "text/latex": [
       "137"
      ],
      "text/markdown": [
       "137"
      ],
      "text/plain": [
       "[1] 137"
      ]
     },
     "metadata": {},
     "output_type": "display_data"
    },
    {
     "data": {
      "text/html": [
       "137"
      ],
      "text/latex": [
       "137"
      ],
      "text/markdown": [
       "137"
      ],
      "text/plain": [
       "[1] 137"
      ]
     },
     "metadata": {},
     "output_type": "display_data"
    }
   ],
   "source": [
    "# subset of forbes dataset, list of all companies in United Kingdom\n",
    "ukCompanies <- forbes[forbes$country == 'United Kingdom',]\n",
    "nrow(ukCompanies)\n",
    "ukCompanies <- subset(forbes, country == 'United Kingdom')\n",
    "nrow(ukCompanies)"
   ]
  },
  {
   "cell_type": "code",
   "execution_count": 84,
   "metadata": {
    "collapsed": false,
    "scrolled": true
   },
   "outputs": [
    {
     "data": {
      "text/plain": [
       "      rank                  country                      category   \n",
       " Min.   :   1.0   United States :751   Banking               : 313  \n",
       " 1st Qu.: 500.8   Japan         :316   Diversified financials: 158  \n",
       " Median :1000.5   United Kingdom:137   Insurance             : 112  \n",
       " Mean   :1000.5   Germany       : 65   Utilities             : 110  \n",
       " 3rd Qu.:1500.2   France        : 63   Materials             :  97  \n",
       " Max.   :2000.0   Canada        : 56   Oil & gas operations  :  90  \n",
       "                  (Other)       :612   (Other)               :1120  \n",
       "     sales            profits             assets          marketvalue    \n",
       " Min.   :  0.010   Min.   :-25.8300   Min.   :   0.270   Min.   :  0.02  \n",
       " 1st Qu.:  2.018   1st Qu.:  0.0800   1st Qu.:   4.025   1st Qu.:  2.72  \n",
       " Median :  4.365   Median :  0.2000   Median :   9.345   Median :  5.15  \n",
       " Mean   :  9.697   Mean   :  0.3811   Mean   :  34.042   Mean   : 11.88  \n",
       " 3rd Qu.:  9.547   3rd Qu.:  0.4400   3rd Qu.:  22.793   3rd Qu.: 10.60  \n",
       " Max.   :256.330   Max.   : 20.9600   Max.   :1264.030   Max.   :328.54  \n",
       "                   NA's   :5                                             "
      ]
     },
     "metadata": {},
     "output_type": "display_data"
    }
   ],
   "source": [
    "# negative index removes absolute value of that positioned data\n",
    "# summary statistics of the dataset\n",
    "summary(forbes[,-2])\n",
    "# lapply(forbes[,-2], summary)"
   ]
  },
  {
   "cell_type": "code",
   "execution_count": 87,
   "metadata": {
    "collapsed": false
   },
   "outputs": [
    {
     "data": {
      "text/html": [
       "<dl class=dl-horizontal>\n",
       "\t<dt>Aerospace &amp; defense</dt>\n",
       "\t\t<dd>0.26</dd>\n",
       "\t<dt>Banking</dt>\n",
       "\t\t<dd>0.14</dd>\n",
       "\t<dt>Business services &amp; supplies</dt>\n",
       "\t\t<dd>0.16</dd>\n",
       "\t<dt>Capital goods</dt>\n",
       "\t\t<dd>0.15</dd>\n",
       "\t<dt>Chemicals</dt>\n",
       "\t\t<dd>0.185</dd>\n",
       "\t<dt>Conglomerates</dt>\n",
       "\t\t<dd>0.27</dd>\n",
       "\t<dt>Construction</dt>\n",
       "\t\t<dd>0.19</dd>\n",
       "\t<dt>Consumer durables</dt>\n",
       "\t\t<dd>0.225</dd>\n",
       "\t<dt>Diversified financials</dt>\n",
       "\t\t<dd>0.2</dd>\n",
       "\t<dt>Drugs &amp; biotechnology</dt>\n",
       "\t\t<dd>0.35</dd>\n",
       "\t<dt>Food drink &amp; tobacco</dt>\n",
       "\t\t<dd>0.27</dd>\n",
       "\t<dt>Food markets</dt>\n",
       "\t\t<dd>0.2</dd>\n",
       "\t<dt>Health care equipment &amp; services</dt>\n",
       "\t\t<dd>0.23</dd>\n",
       "\t<dt>Hotels restaurants &amp; leisure</dt>\n",
       "\t\t<dd>0.21</dd>\n",
       "\t<dt>Household &amp; personal products</dt>\n",
       "\t\t<dd>0.31</dd>\n",
       "\t<dt>Insurance</dt>\n",
       "\t\t<dd>NA</dd>\n",
       "\t<dt>Materials</dt>\n",
       "\t\t<dd>0.15</dd>\n",
       "\t<dt>Media</dt>\n",
       "\t\t<dd>0.15</dd>\n",
       "\t<dt>Oil &amp; gas operations</dt>\n",
       "\t\t<dd>0.35</dd>\n",
       "\t<dt>Retailing</dt>\n",
       "\t\t<dd>0.19</dd>\n",
       "\t<dt>Semiconductors</dt>\n",
       "\t\t<dd>0.15</dd>\n",
       "\t<dt>Software &amp; services</dt>\n",
       "\t\t<dd>0.24</dd>\n",
       "\t<dt>Technology hardware &amp; equipment</dt>\n",
       "\t\t<dd>0.13</dd>\n",
       "\t<dt>Telecommunications services</dt>\n",
       "\t\t<dd>NA</dd>\n",
       "\t<dt>Trading companies</dt>\n",
       "\t\t<dd>0.07</dd>\n",
       "\t<dt>Transportation</dt>\n",
       "\t\t<dd>NA</dd>\n",
       "\t<dt>Utilities</dt>\n",
       "\t\t<dd>0.225</dd>\n",
       "</dl>\n"
      ],
      "text/plain": [
       "             Aerospace & defense                          Banking \n",
       "                           0.260                            0.140 \n",
       "    Business services & supplies                    Capital goods \n",
       "                           0.160                            0.150 \n",
       "                       Chemicals                    Conglomerates \n",
       "                           0.185                            0.270 \n",
       "                    Construction                Consumer durables \n",
       "                           0.190                            0.225 \n",
       "          Diversified financials            Drugs & biotechnology \n",
       "                           0.200                            0.350 \n",
       "            Food drink & tobacco                     Food markets \n",
       "                           0.270                            0.200 \n",
       "Health care equipment & services     Hotels restaurants & leisure \n",
       "                           0.230                            0.210 \n",
       "   Household & personal products                        Insurance \n",
       "                           0.310                               NA \n",
       "                       Materials                            Media \n",
       "                           0.150                            0.150 \n",
       "            Oil & gas operations                        Retailing \n",
       "                           0.350                            0.190 \n",
       "                  Semiconductors              Software & services \n",
       "                           0.150                            0.240 \n",
       " Technology hardware & equipment      Telecommunications services \n",
       "                           0.130                               NA \n",
       "               Trading companies                   Transportation \n",
       "                           0.070                               NA \n",
       "                       Utilities \n",
       "                           0.225 "
      ]
     },
     "metadata": {},
     "output_type": "display_data"
    }
   ],
   "source": [
    "# categorizes numeric data (profits) by category. The first paramater has to be numeric\n",
    "mprofits1 <- tapply(forbes$profits, forbes$category, median)\n",
    "mprofits1"
   ]
  },
  {
   "cell_type": "code",
   "execution_count": 89,
   "metadata": {
    "collapsed": false
   },
   "outputs": [
    {
     "data": {
      "text/html": [
       "<dl class=dl-horizontal>\n",
       "\t<dt>Aerospace &amp; defense</dt>\n",
       "\t\t<dd>0.26</dd>\n",
       "\t<dt>Banking</dt>\n",
       "\t\t<dd>0.14</dd>\n",
       "\t<dt>Business services &amp; supplies</dt>\n",
       "\t\t<dd>0.16</dd>\n",
       "\t<dt>Capital goods</dt>\n",
       "\t\t<dd>0.15</dd>\n",
       "\t<dt>Chemicals</dt>\n",
       "\t\t<dd>0.185</dd>\n",
       "\t<dt>Conglomerates</dt>\n",
       "\t\t<dd>0.27</dd>\n",
       "\t<dt>Construction</dt>\n",
       "\t\t<dd>0.19</dd>\n",
       "\t<dt>Consumer durables</dt>\n",
       "\t\t<dd>0.225</dd>\n",
       "\t<dt>Diversified financials</dt>\n",
       "\t\t<dd>0.2</dd>\n",
       "\t<dt>Drugs &amp; biotechnology</dt>\n",
       "\t\t<dd>0.35</dd>\n",
       "\t<dt>Food drink &amp; tobacco</dt>\n",
       "\t\t<dd>0.27</dd>\n",
       "\t<dt>Food markets</dt>\n",
       "\t\t<dd>0.2</dd>\n",
       "\t<dt>Health care equipment &amp; services</dt>\n",
       "\t\t<dd>0.23</dd>\n",
       "\t<dt>Hotels restaurants &amp; leisure</dt>\n",
       "\t\t<dd>0.21</dd>\n",
       "\t<dt>Household &amp; personal products</dt>\n",
       "\t\t<dd>0.31</dd>\n",
       "\t<dt>Insurance</dt>\n",
       "\t\t<dd>0.22</dd>\n",
       "\t<dt>Materials</dt>\n",
       "\t\t<dd>0.15</dd>\n",
       "\t<dt>Media</dt>\n",
       "\t\t<dd>0.15</dd>\n",
       "\t<dt>Oil &amp; gas operations</dt>\n",
       "\t\t<dd>0.35</dd>\n",
       "\t<dt>Retailing</dt>\n",
       "\t\t<dd>0.19</dd>\n",
       "\t<dt>Semiconductors</dt>\n",
       "\t\t<dd>0.15</dd>\n",
       "\t<dt>Software &amp; services</dt>\n",
       "\t\t<dd>0.24</dd>\n",
       "\t<dt>Technology hardware &amp; equipment</dt>\n",
       "\t\t<dd>0.13</dd>\n",
       "\t<dt>Telecommunications services</dt>\n",
       "\t\t<dd>0.275</dd>\n",
       "\t<dt>Trading companies</dt>\n",
       "\t\t<dd>0.07</dd>\n",
       "\t<dt>Transportation</dt>\n",
       "\t\t<dd>0.13</dd>\n",
       "\t<dt>Utilities</dt>\n",
       "\t\t<dd>0.225</dd>\n",
       "</dl>\n"
      ],
      "text/plain": [
       "             Aerospace & defense                          Banking \n",
       "                           0.260                            0.140 \n",
       "    Business services & supplies                    Capital goods \n",
       "                           0.160                            0.150 \n",
       "                       Chemicals                    Conglomerates \n",
       "                           0.185                            0.270 \n",
       "                    Construction                Consumer durables \n",
       "                           0.190                            0.225 \n",
       "          Diversified financials            Drugs & biotechnology \n",
       "                           0.200                            0.350 \n",
       "            Food drink & tobacco                     Food markets \n",
       "                           0.270                            0.200 \n",
       "Health care equipment & services     Hotels restaurants & leisure \n",
       "                           0.230                            0.210 \n",
       "   Household & personal products                        Insurance \n",
       "                           0.310                            0.220 \n",
       "                       Materials                            Media \n",
       "                           0.150                            0.150 \n",
       "            Oil & gas operations                        Retailing \n",
       "                           0.350                            0.190 \n",
       "                  Semiconductors              Software & services \n",
       "                           0.150                            0.240 \n",
       " Technology hardware & equipment      Telecommunications services \n",
       "                           0.130                            0.275 \n",
       "               Trading companies                   Transportation \n",
       "                           0.070                            0.130 \n",
       "                       Utilities \n",
       "                           0.225 "
      ]
     },
     "metadata": {},
     "output_type": "display_data"
    }
   ],
   "source": [
    "# the same function as above but with NA removed\n",
    "mprofits2 <- tapply(forbes$profits, forbes$category, median, na.rm=T)\n",
    "mprofits2"
   ]
  },
  {
   "cell_type": "code",
   "execution_count": 91,
   "metadata": {
    "collapsed": false
   },
   "outputs": [
    {
     "data": {
      "text/html": [
       "<dl class=dl-horizontal>\n",
       "\t<dt>Drugs &amp; biotechnology</dt>\n",
       "\t\t<dd>0.35</dd>\n",
       "\t<dt>Oil &amp; gas operations</dt>\n",
       "\t\t<dd>0.35</dd>\n",
       "\t<dt>Household &amp; personal products</dt>\n",
       "\t\t<dd>0.31</dd>\n",
       "</dl>\n"
      ],
      "text/plain": [
       "        Drugs & biotechnology          Oil & gas operations \n",
       "                         0.35                          0.35 \n",
       "Household & personal products \n",
       "                         0.31 "
      ]
     },
     "metadata": {},
     "output_type": "display_data"
    }
   ],
   "source": [
    "# sort from highest to lowest and print the first three.\n",
    "sort(mprofits2, decreasing=T)[1:3]"
   ]
  },
  {
   "cell_type": "code",
   "execution_count": 92,
   "metadata": {
    "collapsed": false
   },
   "outputs": [
    {
     "data": {
      "text/html": [
       "<dl class=dl-horizontal>\n",
       "\t<dt>0%</dt>\n",
       "\t\t<dd>-25.83</dd>\n",
       "\t<dt>0%</dt>\n",
       "\t\t<dd>-25.83</dd>\n",
       "\t<dt>25%</dt>\n",
       "\t\t<dd>0.08</dd>\n",
       "\t<dt>50%</dt>\n",
       "\t\t<dd>0.2</dd>\n",
       "\t<dt>75%</dt>\n",
       "\t\t<dd>0.44</dd>\n",
       "\t<dt>100%</dt>\n",
       "\t\t<dd>20.96</dd>\n",
       "</dl>\n"
      ],
      "text/latex": [
       "\\begin{description*}\n",
       "\\item[0\\textbackslash{}\\%] -25.83\n",
       "\\item[0\\textbackslash{}\\%] -25.83\n",
       "\\item[25\\textbackslash{}\\%] 0.08\n",
       "\\item[50\\textbackslash{}\\%] 0.2\n",
       "\\item[75\\textbackslash{}\\%] 0.44\n",
       "\\item[100\\textbackslash{}\\%] 20.96\n",
       "\\end{description*}\n"
      ],
      "text/markdown": [
       "0%\n",
       ":   -25.830%\n",
       ":   -25.8325%\n",
       ":   0.0850%\n",
       ":   0.275%\n",
       ":   0.44100%\n",
       ":   20.96\n",
       "\n"
      ],
      "text/plain": [
       "    0%     0%    25%    50%    75%   100% \n",
       "-25.83 -25.83   0.08   0.20   0.44  20.96 "
      ]
     },
     "metadata": {},
     "output_type": "display_data"
    }
   ],
   "source": [
    "# print quantiles of profit ratios\n",
    "quantile(forbes$profits, prob=c(0,0,0.25,0.5,0.75,1), na.rm=T)"
   ]
  },
  {
   "cell_type": "code",
   "execution_count": 96,
   "metadata": {
    "collapsed": false
   },
   "outputs": [
    {
     "name": "stdout",
     "output_type": "stream",
     "text": [
      "[1] \"IQR:\"\n"
     ]
    },
    {
     "data": {
      "text/html": [
       "0.36"
      ],
      "text/latex": [
       "0.36"
      ],
      "text/markdown": [
       "0.36"
      ],
      "text/plain": [
       "[1] 0.36"
      ]
     },
     "metadata": {},
     "output_type": "display_data"
    }
   ],
   "source": [
    "# calculate the IQR for profits\n",
    "print('IQR:')\n",
    "IQR(forbes$profits, na.rm=T)"
   ]
  },
  {
   "cell_type": "code",
   "execution_count": 101,
   "metadata": {
    "collapsed": false
   },
   "outputs": [
    {
     "data": {
      "text/html": [
       "'Hotels restaurants &amp; leisure'"
      ],
      "text/latex": [
       "'Hotels restaurants \\& leisure'"
      ],
      "text/markdown": [
       "'Hotels restaurants &amp; leisure'"
      ],
      "text/plain": [
       "[1] \"Hotels restaurants & leisure\""
      ]
     },
     "metadata": {},
     "output_type": "display_data"
    },
    {
     "data": {
      "text/html": [
       "'Drugs &amp; biotechnology'"
      ],
      "text/latex": [
       "'Drugs \\& biotechnology'"
      ],
      "text/markdown": [
       "'Drugs &amp; biotechnology'"
      ],
      "text/plain": [
       "[1] \"Drugs & biotechnology\""
      ]
     },
     "metadata": {},
     "output_type": "display_data"
    }
   ],
   "source": [
    "# Categories with the min and max IQR\n",
    "iqrProfits <- tapply(forbes$profits, forbes$category, IQR, na.rm=T)\n",
    "levels(forbes$category)[which.min(iqrProfits)]\n",
    "levels(forbes$category)[which.max(iqrProfits)]\n",
    "#less variable profits in tourism enterprises compared with \n",
    "#profits in the pharmaceutical industr"
   ]
  },
  {
   "cell_type": "code",
   "execution_count": 106,
   "metadata": {
    "collapsed": false
   },
   "outputs": [
    {
     "data": {
      "text/html": [
       "<strong>png:</strong> 2"
      ],
      "text/latex": [
       "\\textbf{png:} 2"
      ],
      "text/markdown": [
       "**png:** 2"
      ],
      "text/plain": [
       "png \n",
       "  2 "
      ]
     },
     "metadata": {},
     "output_type": "display_data"
    }
   ],
   "source": [
    "# create boxplots on sales volumw with jpef format\n",
    "jpeg(filename=\"forbes.jpg\", width=1200, height=800, quality=75, bg='white')\n",
    "par(mar=c(12,4,2,2)) # Set margins: bottom top, left, right\n",
    "boxplot(sales~category, data=forbes, names=NULL, xaxt='n', col='yellow')\n",
    "labels <- levels(forbes$category)\n",
    "text(1:27, rep(-20,27), srt=45, adj=1, labels=labels, xpd=T)\n",
    "dev.off()"
   ]
  },
  {
   "cell_type": "code",
   "execution_count": 129,
   "metadata": {
    "collapsed": false
   },
   "outputs": [
    {
     "data": {
      "text/html": [
       "<ol class=list-inline>\n",
       "\t<li>241</li>\n",
       "\t<li>8</li>\n",
       "</ol>\n"
      ],
      "text/latex": [
       "\\begin{enumerate*}\n",
       "\\item 241\n",
       "\\item 8\n",
       "\\end{enumerate*}\n"
      ],
      "text/markdown": [
       "1. 241\n",
       "2. 8\n",
       "\n",
       "\n"
      ],
      "text/plain": [
       "[1] 241   8"
      ]
     },
     "metadata": {},
     "output_type": "display_data"
    },
    {
     "data": {
      "text/html": [
       "4"
      ],
      "text/latex": [
       "4"
      ],
      "text/markdown": [
       "4"
      ],
      "text/plain": [
       "[1] 4"
      ]
     },
     "metadata": {},
     "output_type": "display_data"
    }
   ],
   "source": [
    "# What does this do ?????\n",
    "tmp <- subset(forbes, country %in% c('United Kingdom','Germany','India','Turkey'))\n",
    "dim(tmp)\n",
    "# Below is i think essentially useless code.\n",
    "# it assigns to countries the column of countries.\n",
    "tmp$country <- tmp$country[,drop=T] # drop rest of the countries\n",
    "nlevels(tmp$country)"
   ]
  },
  {
   "cell_type": "code",
   "execution_count": 127,
   "metadata": {
    "collapsed": false
   },
   "outputs": [
    {
     "data": {
      "text/html": [
       "<strong>png:</strong> 2"
      ],
      "text/latex": [
       "\\textbf{png:} 2"
      ],
      "text/markdown": [
       "**png:** 2"
      ],
      "text/plain": [
       "png \n",
       "  2 "
      ]
     },
     "metadata": {},
     "output_type": "display_data"
    }
   ],
   "source": [
    "# output .tiff format\n",
    "tiff(filename='forbes.tiff', width=800, height=600, bg='white')\n",
    "par(mar=c(5,5,2,2), cex.lab=2, cex.axis=1.5)\n",
    "plot(log(marketvalue)~country, data=tmp, ylab='log(marketvalue)', varwidth=T)\n",
    "dev.off()"
   ]
  },
  {
   "cell_type": "code",
   "execution_count": 131,
   "metadata": {
    "collapsed": false
   },
   "outputs": [
    {
     "data": {
      "text/html": [
       "<strong>png:</strong> 2"
      ],
      "text/latex": [
       "\\textbf{png:} 2"
      ],
      "text/markdown": [
       "**png:** 2"
      ],
      "text/plain": [
       "png \n",
       "  2 "
      ]
     },
     "metadata": {},
     "output_type": "display_data"
    }
   ],
   "source": [
    "# Histogram of market values with .bmp format\n",
    "bmp(filename='forbes.bmp', width=800, height=1200, bg='white')\n",
    "par(mar=c(5,5,4,2), cex.lab=2, cex.axis=1.5, cex.main=2.5)\n",
    "layout(matrix(1:3, nrow=3))\n",
    "hist(forbes$marketvalue, breaks=50,\n",
    "    freq=F, main=\"Density Plot of market value\")\n",
    "hist(log(forbes$marketvalue), breaks=50, # natural log\n",
    "    freq=F, main=\"Density Plot of Log(marketvalue)\")\n",
    "hist(log10(forbes$marketvalue), breaks=50, #log base 10\n",
    "    freq=F, main=\"Density plot of log10(market value)\")\n",
    "lines(density(log10(forbes$marketvalue)), lty=1, lwd=2,col='blue')\n",
    "dev.off()"
   ]
  },
  {
   "cell_type": "code",
   "execution_count": 149,
   "metadata": {
    "collapsed": false
   },
   "outputs": [
    {
     "data": {
      "image/png": "[encoded data removed]",
      "text/plain": [
       "plot without title"
      ]
     },
     "metadata": {},
     "output_type": "display_data"
    }
   ],
   "source": [
    "# Scatter plot of marketvalue vs. sales\n",
    "par(mfrow=c(2,1), mar=c(4,4,2,2))\n",
    "plot(log(marketvalue)~log(sales),data=forbes)\n",
    "plot(log(marketvalue)~log(sales), data=forbes, pch='.')\n",
    "# Add a regression line\n",
    "abline(lm(log(marketvalue)~log(sales), data=forbes), col='red', lty=3, lwd=2)\n",
    "# Add another lowess smoother (nonlinear)\n",
    "lines(lowess(log(forbes$sales), log(forbes$marketvalue)), col='blue', lty=3, lwd=2)\n",
    "#legend(locator(l), legend=c(\"Linear\",\"Lowess\"), lty=c(2,3), lwd=c(2,2), col=c('red','blue'))"
   ]
  },
  {
   "cell_type": "code",
   "execution_count": 152,
   "metadata": {
    "collapsed": false
   },
   "outputs": [],
   "source": [
    "library(hexbin)"
   ]
  },
  {
   "cell_type": "code",
   "execution_count": 158,
   "metadata": {
    "collapsed": false
   },
   "outputs": [
    {
     "data": {
      "image/png": "[encoded data removed]",
      "text/plain": [
       "plot without title"
      ]
     },
     "metadata": {},
     "output_type": "display_data"
    }
   ],
   "source": [
    "plot(hexbin(log(forbes$marketvalue), log(forbes$sales), xbins=50,\n",
    "            xbnds=range(log(forbes$marketvalue)), ybnds=range(log(forbes$sales))))"
   ]
  },
  {
   "cell_type": "code",
   "execution_count": 159,
   "metadata": {
    "collapsed": true
   },
   "outputs": [],
   "source": [
    "library(car)"
   ]
  },
  {
   "cell_type": "code",
   "execution_count": 164,
   "metadata": {
    "collapsed": false
   },
   "outputs": [
    {
     "data": {
      "image/png": "[encoded data removed]",
      "text/plain": [
       "Plot with title \"Enhanced Scatter Plot\""
      ]
     },
     "metadata": {},
     "output_type": "display_data"
    }
   ],
   "source": [
    "scatterplot(log(sales)~log(marketvalue),data=forbes,\n",
    "           xlab='log(marketvalue)', ylab='log(sales)',main=\"Enhanced Scatter Plot\")"
   ]
  },
  {
   "cell_type": "code",
   "execution_count": 177,
   "metadata": {
    "collapsed": false
   },
   "outputs": [
    {
     "name": "stderr",
     "output_type": "stream",
     "text": [
      "Warning message:\n",
      "In FUN(X[[i]], ...): NaNs produced"
     ]
    },
    {
     "data": {
      "text/plain": [
       "\n",
       "    China     India Singapore \n",
       "       25        27        16 "
      ]
     },
     "metadata": {},
     "output_type": "display_data"
    }
   ],
   "source": [
    "# Scatter plot matrix\n",
    "library(lattice)\n",
    "tmp <- subset(forbes, country %in% c('China','India','Singapore'))\n",
    "tmp[,5:8] <- log(tmp[,5:8])\n",
    "tmp$country <- tmp$country[,drop=T]\n",
    "table(tmp$country)"
   ]
  },
  {
   "cell_type": "code",
   "execution_count": 178,
   "metadata": {
    "collapsed": false
   },
   "outputs": [
    {
     "data": {
      "image/png": "[encoded data removed]",
      "text/plain": [
       "plot without title"
      ]
     },
     "metadata": {},
     "output_type": "display_data"
    }
   ],
   "source": [
    "pairs(~sales+profits+assets+marketvalue, data=tmp,\n",
    "      main=\"Scatterplot Matrix\", panel=panel.smooth)"
   ]
  },
  {
   "cell_type": "code",
   "execution_count": 180,
   "metadata": {
    "collapsed": false
   },
   "outputs": [
    {
     "data": {},
     "metadata": {},
     "output_type": "display_data"
    },
    {
     "data": {},
     "metadata": {},
     "output_type": "display_data"
    },
    {
     "data": {
      "image/png": "[encoded data removed]",
      "text/plain": [
       "plot without title"
      ]
     },
     "metadata": {},
     "output_type": "display_data"
    },
    {
     "data": {
      "image/png": "[encoded data removed]",
      "text/plain": [
       "plot without title"
      ]
     },
     "metadata": {},
     "output_type": "display_data"
    }
   ],
   "source": [
    "super.sym <- trellis.par.get(\"superpose.symbol\")\n",
    "splom(~tmp[,5:8],\n",
    "      groups=tmp$country,\n",
    "      panel=panel.superpose,\n",
    "      key=list(title=\"Three countries\",\n",
    "      columns=3,\n",
    "      points=list(pch=super.sym$pch[1:3],\n",
    "      col=super.sym$col[1:3]0),\n",
    "      lwd=2,\n",
    "      cex=1.5,\n",
    "      text=list(c(\"China\", \"India\", \"singapore\"))))\n",
    "# parallel plot\n",
    "parallelplot(~tmp[,5:8], horizontal.axis=F)"
   ]
  },
  {
   "cell_type": "code",
   "execution_count": 182,
   "metadata": {
    "collapsed": false
   },
   "outputs": [],
   "source": [
    "#Create another data frame with only numeric variables\n",
    "forbes2 <- data.frame(sales=forbes$sale,profits=forbes$profits,\n",
    "           assets=forbes$assets, mvalue=forbes$marketvalue)"
   ]
  },
  {
   "cell_type": "code",
   "execution_count": 184,
   "metadata": {
    "collapsed": false
   },
   "outputs": [],
   "source": [
    "fit1 <- lm(mvalue ~ ., data=forbes2[1:1500,])"
   ]
  },
  {
   "cell_type": "code",
   "execution_count": 185,
   "metadata": {
    "collapsed": false
   },
   "outputs": [
    {
     "data": {
      "text/plain": [
       "\n",
       "Call:\n",
       "lm(formula = mvalue ~ ., data = forbes2[1:1500, ])\n",
       "\n",
       "Residuals:\n",
       "     Min       1Q   Median       3Q      Max \n",
       "-119.451   -5.196   -2.525    0.824  224.471 \n",
       "\n",
       "Coefficients:\n",
       "            Estimate Std. Error t value Pr(>|t|)    \n",
       "(Intercept)  3.89069    0.57855   6.725 2.49e-11 ***\n",
       "sales        0.55990    0.02841  19.710  < 2e-16 ***\n",
       "profits      4.60619    0.26534  17.359  < 2e-16 ***\n",
       "assets       0.04792    0.00474  10.109  < 2e-16 ***\n",
       "---\n",
       "Signif. codes:  0 '***' 0.001 '**' 0.01 '*' 0.05 '.' 0.1 ' ' 1\n",
       "\n",
       "Residual standard error: 19 on 1492 degrees of freedom\n",
       "  (4 observations deleted due to missingness)\n",
       "Multiple R-squared:  0.5249,\tAdjusted R-squared:  0.524 \n",
       "F-statistic: 549.5 on 3 and 1492 DF,  p-value: < 2.2e-16\n"
      ]
     },
     "metadata": {},
     "output_type": "display_data"
    }
   ],
   "source": [
    "summary(fit1)"
   ]
  },
  {
   "cell_type": "code",
   "execution_count": 186,
   "metadata": {
    "collapsed": false
   },
   "outputs": [
    {
     "data": {
      "text/html": [
       "1496"
      ],
      "text/latex": [
       "1496"
      ],
      "text/markdown": [
       "1496"
      ],
      "text/plain": [
       "[1] 1496"
      ]
     },
     "metadata": {},
     "output_type": "display_data"
    }
   ],
   "source": [
    "length(fit1$fit)"
   ]
  },
  {
   "cell_type": "code",
   "execution_count": 187,
   "metadata": {
    "collapsed": false
   },
   "outputs": [
    {
     "data": {
      "text/html": [
       "1496"
      ],
      "text/latex": [
       "1496"
      ],
      "text/markdown": [
       "1496"
      ],
      "text/plain": [
       "[1] 1496"
      ]
     },
     "metadata": {},
     "output_type": "display_data"
    }
   ],
   "source": [
    "length(fit1$residual)"
   ]
  },
  {
   "cell_type": "code",
   "execution_count": 189,
   "metadata": {
    "collapsed": false
   },
   "outputs": [
    {
     "data": {
      "text/html": [
       "<ol class=list-inline>\n",
       "\t<li>772</li>\n",
       "\t<li>1085</li>\n",
       "\t<li>1091</li>\n",
       "\t<li>1425</li>\n",
       "</ol>\n"
      ],
      "text/latex": [
       "\\begin{enumerate*}\n",
       "\\item 772\n",
       "\\item 1085\n",
       "\\item 1091\n",
       "\\item 1425\n",
       "\\end{enumerate*}\n"
      ],
      "text/markdown": [
       "1. 772\n",
       "2. 1085\n",
       "3. 1091\n",
       "4. 1425\n",
       "\n",
       "\n"
      ],
      "text/plain": [
       "[1]  772 1085 1091 1425"
      ]
     },
     "metadata": {},
     "output_type": "display_data"
    }
   ],
   "source": [
    "which(is.na(forbes2$profits[1:1500]))"
   ]
  },
  {
   "cell_type": "code",
   "execution_count": 191,
   "metadata": {
    "collapsed": false
   },
   "outputs": [
    {
     "data": {
      "image/png": "[encoded data removed]",
      "text/plain": [
       "plot without title"
      ]
     },
     "metadata": {},
     "output_type": "display_data"
    }
   ],
   "source": [
    "plot(forbes2$mvalue[which(!is.na(forbes$profits[1:1500]))],\n",
    "    fit1$fit, pch='o', xlab='Market value', ylab='Fitted Value')\n",
    "lines(c(0,250), c(0,250))"
   ]
  },
  {
   "cell_type": "code",
   "execution_count": 192,
   "metadata": {
    "collapsed": false
   },
   "outputs": [
    {
     "data": {
      "text/html": [
       "0.724526443097154"
      ],
      "text/latex": [
       "0.724526443097154"
      ],
      "text/markdown": [
       "0.724526443097154"
      ],
      "text/plain": [
       "[1] 0.7245264"
      ]
     },
     "metadata": {},
     "output_type": "display_data"
    }
   ],
   "source": [
    "cor(forbes2$mvalue[which(!is.na(forbes2$profits[1:1500]))],\n",
    "     fit1$fit,use=\"complete.obs\")"
   ]
  },
  {
   "cell_type": "code",
   "execution_count": 193,
   "metadata": {
    "collapsed": false
   },
   "outputs": [
    {
     "data": {
      "image/png": "[encoded data removed]",
      "text/plain": [
       "plot without title"
      ]
     },
     "metadata": {},
     "output_type": "display_data"
    }
   ],
   "source": [
    "ndata= forbes2[1501:2000,]\n",
    "pred1 <- predict(fit1, newdata=ndata)\n",
    "plot(ndata$mvalue, pred1, pch='o', xlab=\"Market Value\", ylab=\"Predicted Value\")"
   ]
  },
  {
   "cell_type": "code",
   "execution_count": 197,
   "metadata": {
    "collapsed": false
   },
   "outputs": [
    {
     "data": {
      "text/html": [
       "-0.215204699510626"
      ],
      "text/latex": [
       "-0.215204699510626"
      ],
      "text/markdown": [
       "-0.215204699510626"
      ],
      "text/plain": [
       "[1] -0.2152047"
      ]
     },
     "metadata": {},
     "output_type": "display_data"
    }
   ],
   "source": [
    "cor(ndata$mvalue,pred1, use='complete.obs')"
   ]
  },
  {
   "cell_type": "code",
   "execution_count": 207,
   "metadata": {
    "collapsed": false
   },
   "outputs": [
    {
     "data": {
      "image/png": "[encoded data removed]",
      "text/plain": [
       "plot without title"
      ]
     },
     "metadata": {},
     "output_type": "display_data"
    }
   ],
   "source": [
    "par(mfrow=c(2,2))\n",
    "plot(1:2000, forbes2$sales, cex=2, pch='.')\n",
    "plot(1:2000, forbes2$profits, cex=2, pch='.')\n",
    "plot(1:2000, forbes2$assets, cex=2, pch='.')\n",
    "plot(1:2000, forbes2$mvalue, cex=2, pch='.')"
   ]
  },
  {
   "cell_type": "code",
   "execution_count": 209,
   "metadata": {
    "collapsed": false
   },
   "outputs": [
    {
     "data": {
      "text/html": [
       "<ol class=list-inline>\n",
       "\t<li>1995</li>\n",
       "\t<li>4</li>\n",
       "</ol>\n"
      ],
      "text/latex": [
       "\\begin{enumerate*}\n",
       "\\item 1995\n",
       "\\item 4\n",
       "\\end{enumerate*}\n"
      ],
      "text/markdown": [
       "1. 1995\n",
       "2. 4\n",
       "\n",
       "\n"
      ],
      "text/plain": [
       "[1] 1995    4"
      ]
     },
     "metadata": {},
     "output_type": "display_data"
    }
   ],
   "source": [
    "forbes2 <- forbes2[which(!is.na(forbes2$profits)),]\n",
    "dim(forbes2)"
   ]
  },
  {
   "cell_type": "code",
   "execution_count": 216,
   "metadata": {
    "collapsed": false
   },
   "outputs": [
    {
     "data": {
      "text/plain": [
       "\n",
       "Call:\n",
       "lm(formula = mvalue ~ ., data = forbes2[idx[1:1500], ])\n",
       "\n",
       "Residuals:\n",
       "    Min      1Q  Median      3Q     Max \n",
       "-82.623  -4.305  -2.107   0.694 227.708 \n",
       "\n",
       "Coefficients:\n",
       "            Estimate Std. Error t value Pr(>|t|)    \n",
       "(Intercept) 3.015799   0.527306   5.719 1.29e-08 ***\n",
       "sales       0.624018   0.032351  19.289  < 2e-16 ***\n",
       "profits     3.783816   0.268226  14.107  < 2e-16 ***\n",
       "assets      0.049148   0.005069   9.696  < 2e-16 ***\n",
       "---\n",
       "Signif. codes:  0 '***' 0.001 '**' 0.01 '*' 0.05 '.' 0.1 ' ' 1\n",
       "\n",
       "Residual standard error: 17.54 on 1496 degrees of freedom\n",
       "Multiple R-squared:  0.4666,\tAdjusted R-squared:  0.4656 \n",
       "F-statistic: 436.3 on 3 and 1496 DF,  p-value: < 2.2e-16\n"
      ]
     },
     "metadata": {},
     "output_type": "display_data"
    }
   ],
   "source": [
    "set.seed(1)\n",
    "idx <- sample(1:1995, size=1995, replace=F)\n",
    "fit2 <- lm(mvalue ~ ., data=forbes2[idx[1:1500],])\n",
    "summary(fit2)"
   ]
  },
  {
   "cell_type": "code",
   "execution_count": 228,
   "metadata": {
    "collapsed": false
   },
   "outputs": [
    {
     "data": {
      "image/png": "[encoded data removed]",
      "text/plain": [
       "plot without title"
      ]
     },
     "metadata": {},
     "output_type": "display_data"
    }
   ],
   "source": [
    "plot(forbes2$mvalue[idx[1:1500]], fit2$fit, pch='o', xlab='Market Value', ylab='Fitted Value')\n",
    "lines(c(0,200), c(0,200))"
   ]
  },
  {
   "cell_type": "code",
   "execution_count": 229,
   "metadata": {
    "collapsed": false
   },
   "outputs": [],
   "source": [
    "pred2 <- predict(fit2, newdata=forbes2[idx[1501:1995],])"
   ]
  },
  {
   "cell_type": "code",
   "execution_count": 231,
   "metadata": {
    "collapsed": false
   },
   "outputs": [
    {
     "data": {
      "image/png": "[encoded data removed]",
      "text/plain": [
       "plot without title"
      ]
     },
     "metadata": {},
     "output_type": "display_data"
    }
   ],
   "source": [
    "plot(forbes2$mvalue[idx[1501:1995]],pred2,pch='o',xlab=\"Market value\",ylab=\"Predicted value\")"
   ]
  },
  {
   "cell_type": "code",
   "execution_count": 232,
   "metadata": {
    "collapsed": false
   },
   "outputs": [
    {
     "data": {
      "text/html": [
       "0.856591271167661"
      ],
      "text/latex": [
       "0.856591271167661"
      ],
      "text/markdown": [
       "0.856591271167661"
      ],
      "text/plain": [
       "[1] 0.8565913"
      ]
     },
     "metadata": {},
     "output_type": "display_data"
    }
   ],
   "source": [
    "cor(forbes2$mvalue[idx[1501:1995]],pred2)"
   ]
  },
  {
   "cell_type": "code",
   "execution_count": 234,
   "metadata": {
    "collapsed": false
   },
   "outputs": [
    {
     "data": {
      "text/html": [
       "0.731114516733579"
      ],
      "text/latex": [
       "0.731114516733579"
      ],
      "text/markdown": [
       "0.731114516733579"
      ],
      "text/plain": [
       "[1] 0.7311145"
      ]
     },
     "metadata": {},
     "output_type": "display_data"
    }
   ],
   "source": [
    "1-sum((forbes2$mvalue[idx[1501:1995]]-pred2)^2)/\n",
    "sum((forbes2$mvalue[idx[1501:1995]]-mean(forbes2$mvalue[idx[1501:1995]]))^2)"
   ]
  },
  {
   "cell_type": "code",
   "execution_count": null,
   "metadata": {
    "collapsed": true
   },
   "outputs": [],
   "source": []
  }
 ],
 "metadata": {
  "kernelspec": {
   "display_name": "R",
   "language": "R",
   "name": "ir"
  },
  "language_info": {
   "codemirror_mode": "r",
   "file_extension": ".r",
   "mimetype": "text/x-r-source",
   "name": "R",
   "pygments_lexer": "r",
   "version": "3.3.1"
  }
 },
 "nbformat": 4,
 "nbformat_minor": 0
}
